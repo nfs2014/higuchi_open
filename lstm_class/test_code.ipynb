{
 "cells": [
  {
   "cell_type": "code",
   "execution_count": 1,
   "metadata": {},
   "outputs": [],
   "source": [
    "import numpy as np \n",
    "f = open(\"fci_gs.csv\", 'rb').read()\n",
    "data = f.decode().split('\\n')"
   ]
  },
  {
   "cell_type": "code",
   "execution_count": 2,
   "metadata": {},
   "outputs": [
    {
     "data": {
      "text/plain": [
       "list"
      ]
     },
     "execution_count": 2,
     "metadata": {},
     "output_type": "execute_result"
    }
   ],
   "source": [
    "type(data)"
   ]
  },
  {
   "cell_type": "code",
   "execution_count": 3,
   "metadata": {},
   "outputs": [
    {
     "data": {
      "text/plain": [
       "'date,ChicagoFCI_model,GSFCI_model,NA_model,MXmUS,SAmUS,CHIFCI,GSFCI,MXUSmSAUS,USDMXN_ret,USDZAR_ret,USDMXNMA_deviation,USDZARMA_deviation\\r'"
      ]
     },
     "execution_count": 3,
     "metadata": {},
     "output_type": "execute_result"
    }
   ],
   "source": [
    "data[0]"
   ]
  },
  {
   "cell_type": "code",
   "execution_count": 4,
   "metadata": {},
   "outputs": [
    {
     "name": "stderr",
     "output_type": "stream",
     "text": [
      "Using TensorFlow backend.\n",
      "C:\\Users\\hirb7\\Anaconda3\\envs\\env3.6\\lib\\site-packages\\tensorflow\\python\\framework\\dtypes.py:526: FutureWarning: Passing (type, 1) or '1type' as a synonym of type is deprecated; in a future version of numpy, it will be understood as (type, (1,)) / '(1,)type'.\n",
      "  _np_qint8 = np.dtype([(\"qint8\", np.int8, 1)])\n",
      "C:\\Users\\hirb7\\Anaconda3\\envs\\env3.6\\lib\\site-packages\\tensorflow\\python\\framework\\dtypes.py:527: FutureWarning: Passing (type, 1) or '1type' as a synonym of type is deprecated; in a future version of numpy, it will be understood as (type, (1,)) / '(1,)type'.\n",
      "  _np_quint8 = np.dtype([(\"quint8\", np.uint8, 1)])\n",
      "C:\\Users\\hirb7\\Anaconda3\\envs\\env3.6\\lib\\site-packages\\tensorflow\\python\\framework\\dtypes.py:528: FutureWarning: Passing (type, 1) or '1type' as a synonym of type is deprecated; in a future version of numpy, it will be understood as (type, (1,)) / '(1,)type'.\n",
      "  _np_qint16 = np.dtype([(\"qint16\", np.int16, 1)])\n",
      "C:\\Users\\hirb7\\Anaconda3\\envs\\env3.6\\lib\\site-packages\\tensorflow\\python\\framework\\dtypes.py:529: FutureWarning: Passing (type, 1) or '1type' as a synonym of type is deprecated; in a future version of numpy, it will be understood as (type, (1,)) / '(1,)type'.\n",
      "  _np_quint16 = np.dtype([(\"quint16\", np.uint16, 1)])\n",
      "C:\\Users\\hirb7\\Anaconda3\\envs\\env3.6\\lib\\site-packages\\tensorflow\\python\\framework\\dtypes.py:530: FutureWarning: Passing (type, 1) or '1type' as a synonym of type is deprecated; in a future version of numpy, it will be understood as (type, (1,)) / '(1,)type'.\n",
      "  _np_qint32 = np.dtype([(\"qint32\", np.int32, 1)])\n",
      "C:\\Users\\hirb7\\Anaconda3\\envs\\env3.6\\lib\\site-packages\\tensorflow\\python\\framework\\dtypes.py:535: FutureWarning: Passing (type, 1) or '1type' as a synonym of type is deprecated; in a future version of numpy, it will be understood as (type, (1,)) / '(1,)type'.\n",
      "  np_resource = np.dtype([(\"resource\", np.ubyte, 1)])\n"
     ]
    }
   ],
   "source": [
    "import os\n",
    "import time\n",
    "import warnings#tensorflowのワーニングの軽減\n",
    "import numpy as np\n",
    "from numpy import newaxis#配列変更\n",
    "from keras.layers.core import Dense,Activation,Dropout\n",
    "from keras.layers.recurrent import LSTM\n",
    "from keras.models import Sequential#時系列データ\n",
    "import matplotlib.pyplot as plt\n"
   ]
  },
  {
   "cell_type": "code",
   "execution_count": 5,
   "metadata": {},
   "outputs": [],
   "source": [
    "import pandas as pd\n",
    "df = pd.read_csv(\"fci_gs.csv\",index_col=0)\n",
    "df.index=pd.to_datetime(df.index)"
   ]
  },
  {
   "cell_type": "code",
   "execution_count": 6,
   "metadata": {},
   "outputs": [
    {
     "data": {
      "text/html": [
       "<div>\n",
       "<style scoped>\n",
       "    .dataframe tbody tr th:only-of-type {\n",
       "        vertical-align: middle;\n",
       "    }\n",
       "\n",
       "    .dataframe tbody tr th {\n",
       "        vertical-align: top;\n",
       "    }\n",
       "\n",
       "    .dataframe thead th {\n",
       "        text-align: right;\n",
       "    }\n",
       "</style>\n",
       "<table border=\"1\" class=\"dataframe\">\n",
       "  <thead>\n",
       "    <tr style=\"text-align: right;\">\n",
       "      <th></th>\n",
       "      <th>ChicagoFCI_model</th>\n",
       "      <th>GSFCI_model</th>\n",
       "      <th>NA_model</th>\n",
       "      <th>MXmUS</th>\n",
       "      <th>SAmUS</th>\n",
       "      <th>CHIFCI</th>\n",
       "      <th>GSFCI</th>\n",
       "      <th>MXUSmSAUS</th>\n",
       "      <th>USDMXN_ret</th>\n",
       "      <th>USDZAR_ret</th>\n",
       "      <th>USDMXNMA_deviation</th>\n",
       "      <th>USDZARMA_deviation</th>\n",
       "    </tr>\n",
       "    <tr>\n",
       "      <th>date</th>\n",
       "      <th></th>\n",
       "      <th></th>\n",
       "      <th></th>\n",
       "      <th></th>\n",
       "      <th></th>\n",
       "      <th></th>\n",
       "      <th></th>\n",
       "      <th></th>\n",
       "      <th></th>\n",
       "      <th></th>\n",
       "      <th></th>\n",
       "      <th></th>\n",
       "    </tr>\n",
       "  </thead>\n",
       "  <tbody>\n",
       "    <tr>\n",
       "      <th>2005-04-01</th>\n",
       "      <td>0</td>\n",
       "      <td>0</td>\n",
       "      <td>1</td>\n",
       "      <td>0.049781</td>\n",
       "      <td>0.038687</td>\n",
       "      <td>0.004613</td>\n",
       "      <td>-0.04</td>\n",
       "      <td>1.941</td>\n",
       "      <td>-0.010257</td>\n",
       "      <td>0.006126</td>\n",
       "      <td>0.174600</td>\n",
       "      <td>0.317125</td>\n",
       "    </tr>\n",
       "    <tr>\n",
       "      <th>2005-04-08</th>\n",
       "      <td>1</td>\n",
       "      <td>0</td>\n",
       "      <td>0</td>\n",
       "      <td>0.006909</td>\n",
       "      <td>0.004341</td>\n",
       "      <td>0.008387</td>\n",
       "      <td>0.01</td>\n",
       "      <td>1.965</td>\n",
       "      <td>-0.004551</td>\n",
       "      <td>-0.016373</td>\n",
       "      <td>0.034975</td>\n",
       "      <td>0.258625</td>\n",
       "    </tr>\n",
       "    <tr>\n",
       "      <th>2005-04-15</th>\n",
       "      <td>0</td>\n",
       "      <td>0</td>\n",
       "      <td>1</td>\n",
       "      <td>0.046506</td>\n",
       "      <td>-0.032836</td>\n",
       "      <td>0.011422</td>\n",
       "      <td>0.15</td>\n",
       "      <td>2.385</td>\n",
       "      <td>-0.002807</td>\n",
       "      <td>0.020031</td>\n",
       "      <td>-0.033225</td>\n",
       "      <td>0.059925</td>\n",
       "    </tr>\n",
       "  </tbody>\n",
       "</table>\n",
       "</div>"
      ],
      "text/plain": [
       "            ChicagoFCI_model  GSFCI_model  NA_model     MXmUS     SAmUS  \\\n",
       "date                                                                      \n",
       "2005-04-01                 0            0         1  0.049781  0.038687   \n",
       "2005-04-08                 1            0         0  0.006909  0.004341   \n",
       "2005-04-15                 0            0         1  0.046506 -0.032836   \n",
       "\n",
       "              CHIFCI  GSFCI  MXUSmSAUS  USDMXN_ret  USDZAR_ret  \\\n",
       "date                                                             \n",
       "2005-04-01  0.004613  -0.04      1.941   -0.010257    0.006126   \n",
       "2005-04-08  0.008387   0.01      1.965   -0.004551   -0.016373   \n",
       "2005-04-15  0.011422   0.15      2.385   -0.002807    0.020031   \n",
       "\n",
       "            USDMXNMA_deviation  USDZARMA_deviation  \n",
       "date                                                \n",
       "2005-04-01            0.174600            0.317125  \n",
       "2005-04-08            0.034975            0.258625  \n",
       "2005-04-15           -0.033225            0.059925  "
      ]
     },
     "execution_count": 6,
     "metadata": {},
     "output_type": "execute_result"
    }
   ],
   "source": [
    "df.head(3)"
   ]
  },
  {
   "cell_type": "code",
   "execution_count": 7,
   "metadata": {},
   "outputs": [],
   "source": [
    "df =np.array(df)"
   ]
  },
  {
   "cell_type": "code",
   "execution_count": 8,
   "metadata": {},
   "outputs": [
    {
     "data": {
      "text/plain": [
       "(763, 12)"
      ]
     },
     "execution_count": 8,
     "metadata": {},
     "output_type": "execute_result"
    }
   ],
   "source": [
    "np.shape(df)"
   ]
  },
  {
   "cell_type": "code",
   "execution_count": 9,
   "metadata": {},
   "outputs": [],
   "source": [
    "# x_train = df.iloc[:500,3:]\n",
    "# y_train = df.iloc[:500,:3]\n",
    "# x_test = df.iloc[500:,3:]\n",
    "# y_test = df.iloc[500:,:3]\n",
    "# # reshape input to be [samples, time steps, features]\n",
    "sequence_length = 50 + 1\n",
    "result = []\n",
    "for k in range(len(df) - sequence_length):#index:0～712\n",
    "    result.append(df[k: k + sequence_length])\n",
    "    "
   ]
  },
  {
   "cell_type": "code",
   "execution_count": 10,
   "metadata": {},
   "outputs": [
    {
     "data": {
      "text/plain": [
       "712"
      ]
     },
     "execution_count": 10,
     "metadata": {},
     "output_type": "execute_result"
    }
   ],
   "source": [
    "len(result)"
   ]
  },
  {
   "cell_type": "code",
   "execution_count": 11,
   "metadata": {},
   "outputs": [],
   "source": [
    "result = np.array(result)"
   ]
  },
  {
   "cell_type": "code",
   "execution_count": 12,
   "metadata": {},
   "outputs": [
    {
     "data": {
      "text/plain": [
       "array([ 0.        ,  0.        ,  1.        ,  0.04978104,  0.03868725,\n",
       "        0.004613  , -0.04      ,  1.941     , -0.01025705,  0.00612636,\n",
       "        0.1746    ,  0.317125  ])"
      ]
     },
     "execution_count": 12,
     "metadata": {},
     "output_type": "execute_result"
    }
   ],
   "source": [
    "result[0][0]"
   ]
  },
  {
   "cell_type": "code",
   "execution_count": 26,
   "metadata": {},
   "outputs": [],
   "source": [
    "from sklearn.preprocessing import MinMaxScaler\n",
    "from sklearn.metrics import mean_squared_error\n",
    "\n",
    "normalized_data = []\n",
    "scaler = MinMaxScaler(feature_range=(-1, 1))\n",
    "for window in result:#51個のデータのうちはじめの1つめを基準に標準化\n",
    "    normalized = scaler.fit_transform(window[:,3:])\n",
    "    normalized_window = np.concatenate([window[:,:3],normalized],axis=1)\n",
    "    normalized_data.append(normalized_window)"
   ]
  },
  {
   "cell_type": "code",
   "execution_count": 27,
   "metadata": {},
   "outputs": [
    {
     "data": {
      "text/plain": [
       "(712, 51, 12)"
      ]
     },
     "execution_count": 27,
     "metadata": {},
     "output_type": "execute_result"
    }
   ],
   "source": [
    "np.shape(normalized_data)"
   ]
  },
  {
   "cell_type": "code",
   "execution_count": 42,
   "metadata": {},
   "outputs": [
    {
     "data": {
      "text/plain": [
       "array([ 0.        ,  0.        ,  1.        ,  0.69834779,  0.75014129,\n",
       "       -0.07450577, -0.02702703,  0.43863636, -0.54970121,  0.06558063,\n",
       "        0.90404516,  0.60117   ])"
      ]
     },
     "execution_count": 42,
     "metadata": {},
     "output_type": "execute_result"
    }
   ],
   "source": [
    "normalized_data[0][0]"
   ]
  },
  {
   "cell_type": "code",
   "execution_count": 29,
   "metadata": {},
   "outputs": [],
   "source": [
    "result =np.array(normalized_data)\n",
    "train = result[:500,:,:]\n",
    "x_train = train[:,:-1,3:]\n",
    "y_train = train[:,-1,:3]\n",
    "x_test = result[500:,:-1,3:]\n",
    "y_test = result[500:,-1,:3]"
   ]
  },
  {
   "cell_type": "code",
   "execution_count": 30,
   "metadata": {},
   "outputs": [
    {
     "data": {
      "text/plain": [
       "(500, 3)"
      ]
     },
     "execution_count": 30,
     "metadata": {},
     "output_type": "execute_result"
    }
   ],
   "source": [
    "np.shape(y_train)"
   ]
  },
  {
   "cell_type": "code",
   "execution_count": 31,
   "metadata": {},
   "outputs": [
    {
     "data": {
      "text/plain": [
       "(212, 50, 9)"
      ]
     },
     "execution_count": 31,
     "metadata": {},
     "output_type": "execute_result"
    }
   ],
   "source": [
    "np.shape(x_test)"
   ]
  },
  {
   "cell_type": "code",
   "execution_count": 32,
   "metadata": {},
   "outputs": [],
   "source": [
    "def build_model(layers):\n",
    "    \"\"\"\n",
    "    inputはlayers[0]ここでは50×1が入る\n",
    "    1番目のLSTM層がlayers[1]\n",
    "    2番目のLSTM層がlayers[2]\n",
    "    出力層がlayers[3]でregressionが\n",
    "    \"\"\"\n",
    "    model = Sequential()\n",
    "    model.add(LSTM(input_shape=(layers[1], layers[0]),\n",
    "                  output_dim=layers[1],\n",
    "                  return_sequences=True))\n",
    "    #Dropoutさせる比率\n",
    "    model.add(Dropout(0.2))\n",
    "    \n",
    "    #2番目のLSTM層\n",
    "    model.add(LSTM(layers[2],return_sequences=False))\n",
    "    model.add(Dropout(0.2))\n",
    "    \n",
    "    #全結合層\n",
    "    model.add(Dense(output_dim=layers[3]))\n",
    "    model.add(Activation(\"linear\"))#活性化関数　通常はsigmoid\n",
    "    \n",
    "    #modelに結果が格納\n",
    "    start = time.time()\n",
    "    model.compile(optimizer='rmsprop',\n",
    "              loss='categorical_crossentropy',\n",
    "              metrics=['accuracy'])\n",
    "    #model.compile(loss=\"mse\",optimizer=\"rmsprop\", metrics =['accuracy'])\n",
    "    print(\"実行時間: \",time.time() - start)\n",
    "    return model\n"
   ]
  },
  {
   "cell_type": "code",
   "execution_count": 33,
   "metadata": {},
   "outputs": [
    {
     "name": "stdout",
     "output_type": "stream",
     "text": [
      "WARNING:tensorflow:From C:\\Users\\hirb7\\Anaconda3\\envs\\env3.6\\lib\\site-packages\\tensorflow\\python\\framework\\op_def_library.py:263: colocate_with (from tensorflow.python.framework.ops) is deprecated and will be removed in a future version.\n",
      "Instructions for updating:\n",
      "Colocations handled automatically by placer.\n"
     ]
    },
    {
     "name": "stderr",
     "output_type": "stream",
     "text": [
      "C:\\Users\\hirb7\\Anaconda3\\envs\\env3.6\\lib\\site-packages\\ipykernel_launcher.py:11: UserWarning: Update your `LSTM` call to the Keras 2 API: `LSTM(input_shape=(50, 9), return_sequences=True, units=50)`\n",
      "  # This is added back by InteractiveShellApp.init_path()\n"
     ]
    },
    {
     "name": "stdout",
     "output_type": "stream",
     "text": [
      "WARNING:tensorflow:From C:\\Users\\hirb7\\Anaconda3\\envs\\env3.6\\lib\\site-packages\\keras\\backend\\tensorflow_backend.py:3445: calling dropout (from tensorflow.python.ops.nn_ops) with keep_prob is deprecated and will be removed in a future version.\n",
      "Instructions for updating:\n",
      "Please use `rate` instead of `keep_prob`. Rate should be set to `rate = 1 - keep_prob`.\n",
      "実行時間:  0.04037642478942871\n"
     ]
    },
    {
     "name": "stderr",
     "output_type": "stream",
     "text": [
      "C:\\Users\\hirb7\\Anaconda3\\envs\\env3.6\\lib\\site-packages\\ipykernel_launcher.py:20: UserWarning: Update your `Dense` call to the Keras 2 API: `Dense(units=3)`\n"
     ]
    }
   ],
   "source": [
    "model =build_model([9,50,18,3])"
   ]
  },
  {
   "cell_type": "code",
   "execution_count": 34,
   "metadata": {},
   "outputs": [
    {
     "name": "stdout",
     "output_type": "stream",
     "text": [
      "WARNING:tensorflow:From C:\\Users\\hirb7\\Anaconda3\\envs\\env3.6\\lib\\site-packages\\tensorflow\\python\\ops\\math_ops.py:3066: to_int32 (from tensorflow.python.ops.math_ops) is deprecated and will be removed in a future version.\n",
      "Instructions for updating:\n",
      "Use tf.cast instead.\n"
     ]
    },
    {
     "name": "stderr",
     "output_type": "stream",
     "text": [
      "C:\\Users\\hirb7\\Anaconda3\\envs\\env3.6\\lib\\site-packages\\ipykernel_launcher.py:1: UserWarning: The `nb_epoch` argument in `fit` has been renamed `epochs`.\n",
      "  \"\"\"Entry point for launching an IPython kernel.\n"
     ]
    },
    {
     "name": "stdout",
     "output_type": "stream",
     "text": [
      "Train on 475 samples, validate on 25 samples\n",
      "Epoch 1/100\n",
      "475/475 [==============================] - 2s 5ms/step - loss: 6.2187 - acc: 0.3684 - val_loss: 0.8861 - val_acc: 0.0400\n",
      "Epoch 2/100\n",
      "475/475 [==============================] - 1s 3ms/step - loss: 5.2348 - acc: 0.3537 - val_loss: 0.9418 - val_acc: 0.0800\n",
      "Epoch 3/100\n",
      "475/475 [==============================] - 1s 3ms/step - loss: 5.1676 - acc: 0.3789 - val_loss: 0.7683 - val_acc: 0.0400\n",
      "Epoch 4/100\n",
      "475/475 [==============================] - 1s 2ms/step - loss: 3.4516 - acc: 0.2989 - val_loss: 0.5922 - val_acc: 0.0400\n",
      "Epoch 5/100\n",
      "475/475 [==============================] - 1s 2ms/step - loss: 3.2432 - acc: 0.2105 - val_loss: 1.6233 - val_acc: 0.0400\n",
      "Epoch 6/100\n",
      "475/475 [==============================] - 1s 2ms/step - loss: 4.5963 - acc: 0.1789 - val_loss: 12.5419 - val_acc: 0.0400\n",
      "Epoch 7/100\n",
      "475/475 [==============================] - 1s 2ms/step - loss: 7.8452 - acc: 0.1874 - val_loss: 9.1823 - val_acc: 0.0800\n",
      "Epoch 8/100\n",
      "475/475 [==============================] - 1s 2ms/step - loss: 7.6491 - acc: 0.2274 - val_loss: 9.1595 - val_acc: 0.2000\n",
      "Epoch 9/100\n",
      "475/475 [==============================] - 1s 2ms/step - loss: 7.3634 - acc: 0.2674 - val_loss: 9.1832 - val_acc: 0.4000\n",
      "Epoch 10/100\n",
      "475/475 [==============================] - 1s 2ms/step - loss: 3.8406 - acc: 0.3726 - val_loss: 0.8879 - val_acc: 0.5200\n",
      "Epoch 11/100\n",
      "475/475 [==============================] - 1s 2ms/step - loss: 1.8185 - acc: 0.4274 - val_loss: 0.8660 - val_acc: 0.5600\n",
      "Epoch 12/100\n",
      "475/475 [==============================] - 1s 2ms/step - loss: 1.3653 - acc: 0.4147 - val_loss: 0.9718 - val_acc: 0.4800\n",
      "Epoch 13/100\n",
      "475/475 [==============================] - 1s 2ms/step - loss: 1.2721 - acc: 0.4232 - val_loss: 0.9335 - val_acc: 0.5200\n",
      "Epoch 14/100\n",
      "475/475 [==============================] - 1s 3ms/step - loss: 1.1917 - acc: 0.4421 - val_loss: 0.8942 - val_acc: 0.5600\n",
      "Epoch 15/100\n",
      "475/475 [==============================] - 1s 3ms/step - loss: 1.1405 - acc: 0.4758 - val_loss: 0.9372 - val_acc: 0.5600\n",
      "Epoch 16/100\n",
      "475/475 [==============================] - 1s 2ms/step - loss: 1.0996 - acc: 0.4484 - val_loss: 0.9371 - val_acc: 0.5600\n",
      "Epoch 17/100\n",
      "475/475 [==============================] - 1s 2ms/step - loss: 1.0588 - acc: 0.4968 - val_loss: 0.8814 - val_acc: 0.5600\n",
      "Epoch 18/100\n",
      "475/475 [==============================] - 1s 2ms/step - loss: 1.0345 - acc: 0.4905 - val_loss: 0.8936 - val_acc: 0.5600\n",
      "Epoch 19/100\n",
      "475/475 [==============================] - 1s 2ms/step - loss: 1.0077 - acc: 0.5200 - val_loss: 0.8902 - val_acc: 0.5600\n",
      "Epoch 20/100\n",
      "475/475 [==============================] - 1s 2ms/step - loss: 1.0739 - acc: 0.4989 - val_loss: 0.9281 - val_acc: 0.5600\n",
      "Epoch 21/100\n",
      "475/475 [==============================] - 1s 3ms/step - loss: 1.0032 - acc: 0.5095 - val_loss: 0.8694 - val_acc: 0.5600\n",
      "Epoch 22/100\n",
      "475/475 [==============================] - 1s 3ms/step - loss: 1.0273 - acc: 0.5200 - val_loss: 0.9032 - val_acc: 0.5600\n",
      "Epoch 23/100\n",
      "475/475 [==============================] - 1s 3ms/step - loss: 0.9915 - acc: 0.5032 - val_loss: 0.8810 - val_acc: 0.5600\n",
      "Epoch 24/100\n",
      "475/475 [==============================] - 1s 2ms/step - loss: 1.0532 - acc: 0.5221 - val_loss: 0.8982 - val_acc: 0.5600\n",
      "Epoch 25/100\n",
      "475/475 [==============================] - 1s 2ms/step - loss: 1.0463 - acc: 0.5074 - val_loss: 0.8960 - val_acc: 0.5600\n",
      "Epoch 26/100\n",
      "475/475 [==============================] - 1s 2ms/step - loss: 0.9846 - acc: 0.5116 - val_loss: 0.8671 - val_acc: 0.5600\n",
      "Epoch 27/100\n",
      "475/475 [==============================] - 1s 2ms/step - loss: 1.0593 - acc: 0.5179 - val_loss: 0.8589 - val_acc: 0.5600\n",
      "Epoch 28/100\n",
      "475/475 [==============================] - 1s 2ms/step - loss: 1.0620 - acc: 0.5053 - val_loss: 0.9116 - val_acc: 0.5600\n",
      "Epoch 29/100\n",
      "475/475 [==============================] - 1s 2ms/step - loss: 1.1105 - acc: 0.5221 - val_loss: 0.8815 - val_acc: 0.5600\n",
      "Epoch 30/100\n",
      "475/475 [==============================] - 1s 2ms/step - loss: 1.3134 - acc: 0.4800 - val_loss: 0.8711 - val_acc: 0.5600\n",
      "Epoch 31/100\n",
      "475/475 [==============================] - 1s 2ms/step - loss: 1.4513 - acc: 0.4947 - val_loss: 0.8500 - val_acc: 0.5600\n",
      "Epoch 32/100\n",
      "475/475 [==============================] - 1s 2ms/step - loss: 1.4260 - acc: 0.4547 - val_loss: 0.8633 - val_acc: 0.5600\n",
      "Epoch 33/100\n",
      "475/475 [==============================] - 1s 2ms/step - loss: 1.4255 - acc: 0.4737 - val_loss: 0.8576 - val_acc: 0.5600\n",
      "Epoch 34/100\n",
      "475/475 [==============================] - 1s 2ms/step - loss: 1.4758 - acc: 0.4611 - val_loss: 0.8578 - val_acc: 0.5600\n",
      "Epoch 35/100\n",
      "475/475 [==============================] - 1s 3ms/step - loss: 1.5548 - acc: 0.4232 - val_loss: 0.8428 - val_acc: 0.5600\n",
      "Epoch 36/100\n",
      "475/475 [==============================] - 1s 3ms/step - loss: 1.7982 - acc: 0.4505 - val_loss: 0.8543 - val_acc: 0.5600\n",
      "Epoch 37/100\n",
      "475/475 [==============================] - 1s 3ms/step - loss: 1.5385 - acc: 0.4379 - val_loss: 0.8529 - val_acc: 0.5600\n",
      "Epoch 38/100\n",
      "475/475 [==============================] - 1s 2ms/step - loss: 1.3229 - acc: 0.4274 - val_loss: 0.8610 - val_acc: 0.5600\n",
      "Epoch 39/100\n",
      "475/475 [==============================] - 1s 2ms/step - loss: 1.2186 - acc: 0.4232 - val_loss: 0.8621 - val_acc: 0.5600\n",
      "Epoch 40/100\n",
      "475/475 [==============================] - 1s 2ms/step - loss: 1.3322 - acc: 0.4358 - val_loss: 0.8699 - val_acc: 0.5600\n",
      "Epoch 41/100\n",
      "475/475 [==============================] - 1s 2ms/step - loss: 1.4001 - acc: 0.4632 - val_loss: 0.8618 - val_acc: 0.5600\n",
      "Epoch 42/100\n",
      "475/475 [==============================] - 1s 2ms/step - loss: 1.3860 - acc: 0.4737 - val_loss: 0.8574 - val_acc: 0.5600\n",
      "Epoch 43/100\n",
      "475/475 [==============================] - 1s 3ms/step - loss: 1.2173 - acc: 0.4611 - val_loss: 0.8547 - val_acc: 0.5600\n",
      "Epoch 44/100\n",
      "475/475 [==============================] - 1s 3ms/step - loss: 1.1557 - acc: 0.4800 - val_loss: 0.8564 - val_acc: 0.5600\n",
      "Epoch 45/100\n",
      "475/475 [==============================] - 1s 2ms/step - loss: 1.1145 - acc: 0.4800 - val_loss: 0.8715 - val_acc: 0.5600\n",
      "Epoch 46/100\n",
      "475/475 [==============================] - 1s 2ms/step - loss: 1.1360 - acc: 0.4842 - val_loss: 0.8651 - val_acc: 0.5600\n",
      "Epoch 47/100\n",
      "475/475 [==============================] - 1s 2ms/step - loss: 1.0569 - acc: 0.4947 - val_loss: 0.8590 - val_acc: 0.5600\n",
      "Epoch 48/100\n",
      "475/475 [==============================] - 1s 2ms/step - loss: 1.1158 - acc: 0.4821 - val_loss: 0.8553 - val_acc: 0.5600\n",
      "Epoch 49/100\n",
      "475/475 [==============================] - 1s 2ms/step - loss: 1.0119 - acc: 0.5116 - val_loss: 0.8691 - val_acc: 0.5600\n",
      "Epoch 50/100\n",
      "475/475 [==============================] - 1s 3ms/step - loss: 1.0116 - acc: 0.5011 - val_loss: 0.8605 - val_acc: 0.5600\n",
      "Epoch 51/100\n",
      "475/475 [==============================] - 1s 3ms/step - loss: 1.0006 - acc: 0.5053 - val_loss: 0.8372 - val_acc: 0.5600\n",
      "Epoch 52/100\n",
      "475/475 [==============================] - 1s 3ms/step - loss: 1.4462 - acc: 0.4737 - val_loss: 0.8307 - val_acc: 0.5600\n",
      "Epoch 53/100\n",
      "475/475 [==============================] - 1s 2ms/step - loss: 1.9867 - acc: 0.3558 - val_loss: 0.8374 - val_acc: 0.5600\n",
      "Epoch 54/100\n",
      "475/475 [==============================] - 1s 2ms/step - loss: 1.6803 - acc: 0.4063 - val_loss: 0.8432 - val_acc: 0.5600\n",
      "Epoch 55/100\n",
      "475/475 [==============================] - 1s 2ms/step - loss: 1.2959 - acc: 0.4632 - val_loss: 0.8459 - val_acc: 0.5600\n",
      "Epoch 56/100\n",
      "475/475 [==============================] - 1s 2ms/step - loss: 1.0814 - acc: 0.4737 - val_loss: 0.8533 - val_acc: 0.5600\n",
      "Epoch 57/100\n",
      "475/475 [==============================] - 1s 2ms/step - loss: 1.0324 - acc: 0.5032 - val_loss: 0.8570 - val_acc: 0.5600\n",
      "Epoch 58/100\n",
      "475/475 [==============================] - 1s 2ms/step - loss: 1.0302 - acc: 0.5095 - val_loss: 0.8709 - val_acc: 0.5600\n",
      "Epoch 59/100\n",
      "475/475 [==============================] - 1s 2ms/step - loss: 1.0745 - acc: 0.5011 - val_loss: 0.8991 - val_acc: 0.5600\n",
      "Epoch 60/100\n",
      "475/475 [==============================] - 1s 2ms/step - loss: 1.3202 - acc: 0.4632 - val_loss: 0.8890 - val_acc: 0.5600\n",
      "Epoch 61/100\n",
      "475/475 [==============================] - 1s 2ms/step - loss: 1.4126 - acc: 0.3558 - val_loss: 0.8788 - val_acc: 0.5600\n",
      "Epoch 62/100\n",
      "475/475 [==============================] - 1s 2ms/step - loss: 1.2916 - acc: 0.3368 - val_loss: 0.8792 - val_acc: 0.5600\n",
      "Epoch 63/100\n",
      "475/475 [==============================] - 1s 2ms/step - loss: 1.2521 - acc: 0.3516 - val_loss: 0.8857 - val_acc: 0.5600\n",
      "Epoch 64/100\n",
      "475/475 [==============================] - 1s 2ms/step - loss: 1.2539 - acc: 0.3663 - val_loss: 0.8828 - val_acc: 0.5600\n",
      "Epoch 65/100\n",
      "475/475 [==============================] - 1s 2ms/step - loss: 1.1728 - acc: 0.4063 - val_loss: 0.8785 - val_acc: 0.5600\n",
      "Epoch 66/100\n",
      "475/475 [==============================] - 1s 2ms/step - loss: 1.0746 - acc: 0.4147 - val_loss: 0.8741 - val_acc: 0.5600\n",
      "Epoch 67/100\n",
      "475/475 [==============================] - 1s 2ms/step - loss: 1.1359 - acc: 0.4232 - val_loss: 0.9026 - val_acc: 0.5600\n",
      "Epoch 68/100\n",
      "475/475 [==============================] - 1s 2ms/step - loss: 1.0770 - acc: 0.4147 - val_loss: 0.8909 - val_acc: 0.5600\n",
      "Epoch 69/100\n",
      "475/475 [==============================] - 1s 2ms/step - loss: 1.1170 - acc: 0.4000 - val_loss: 0.8840 - val_acc: 0.5600\n",
      "Epoch 70/100\n",
      "475/475 [==============================] - 1s 2ms/step - loss: 1.0469 - acc: 0.3832 - val_loss: 0.8840 - val_acc: 0.5600\n",
      "Epoch 71/100\n",
      "475/475 [==============================] - 1s 2ms/step - loss: 1.0259 - acc: 0.3726 - val_loss: 0.8722 - val_acc: 0.5600\n",
      "Epoch 72/100\n",
      "475/475 [==============================] - 1s 2ms/step - loss: 1.0662 - acc: 0.3747 - val_loss: 0.8651 - val_acc: 0.5600\n",
      "Epoch 73/100\n",
      "475/475 [==============================] - 1s 2ms/step - loss: 1.0929 - acc: 0.3642 - val_loss: 0.8722 - val_acc: 0.5600\n",
      "Epoch 74/100\n",
      "475/475 [==============================] - 1s 2ms/step - loss: 1.0639 - acc: 0.3789 - val_loss: 0.8713 - val_acc: 0.5600\n",
      "Epoch 75/100\n",
      "475/475 [==============================] - 1s 2ms/step - loss: 1.0302 - acc: 0.3874 - val_loss: 0.8675 - val_acc: 0.5600\n",
      "Epoch 76/100\n",
      "475/475 [==============================] - 1s 2ms/step - loss: 0.9837 - acc: 0.3958 - val_loss: 0.8682 - val_acc: 0.5600\n",
      "Epoch 77/100\n",
      "475/475 [==============================] - 1s 2ms/step - loss: 0.9901 - acc: 0.3895 - val_loss: 0.8666 - val_acc: 0.5600\n",
      "Epoch 78/100\n",
      "475/475 [==============================] - 1s 2ms/step - loss: 0.9878 - acc: 0.3789 - val_loss: 0.8189 - val_acc: 0.5600\n",
      "Epoch 79/100\n",
      "475/475 [==============================] - 1s 2ms/step - loss: 0.9867 - acc: 0.3874 - val_loss: 0.8666 - val_acc: 0.5600\n",
      "Epoch 80/100\n",
      "475/475 [==============================] - 1s 2ms/step - loss: 0.9973 - acc: 0.3811 - val_loss: 0.8612 - val_acc: 0.5600\n",
      "Epoch 81/100\n",
      "475/475 [==============================] - 1s 2ms/step - loss: 1.0557 - acc: 0.3389 - val_loss: 0.8823 - val_acc: 0.4800\n",
      "Epoch 82/100\n",
      "475/475 [==============================] - 1s 2ms/step - loss: 1.0076 - acc: 0.2947 - val_loss: 0.8671 - val_acc: 0.4800\n",
      "Epoch 83/100\n",
      "475/475 [==============================] - 1s 2ms/step - loss: 1.0019 - acc: 0.2737 - val_loss: 0.8751 - val_acc: 0.4800\n",
      "Epoch 84/100\n",
      "475/475 [==============================] - 1s 2ms/step - loss: 1.0022 - acc: 0.2126 - val_loss: 0.8735 - val_acc: 0.4800\n",
      "Epoch 85/100\n",
      "475/475 [==============================] - 1s 2ms/step - loss: 1.0009 - acc: 0.2105 - val_loss: 0.8419 - val_acc: 0.4400\n",
      "Epoch 86/100\n",
      "475/475 [==============================] - 1s 2ms/step - loss: 0.9865 - acc: 0.2168 - val_loss: 0.8766 - val_acc: 0.4800\n",
      "Epoch 87/100\n",
      "475/475 [==============================] - 1s 2ms/step - loss: 0.9965 - acc: 0.2168 - val_loss: 0.8634 - val_acc: 0.4800\n",
      "Epoch 88/100\n",
      "475/475 [==============================] - 1s 2ms/step - loss: 0.9975 - acc: 0.2295 - val_loss: 0.8845 - val_acc: 0.4800\n",
      "Epoch 89/100\n",
      "475/475 [==============================] - 1s 2ms/step - loss: 1.0256 - acc: 0.2063 - val_loss: 0.8741 - val_acc: 0.4800\n",
      "Epoch 90/100\n",
      "475/475 [==============================] - 1s 2ms/step - loss: 0.9860 - acc: 0.2147 - val_loss: 0.8706 - val_acc: 0.4800\n",
      "Epoch 91/100\n",
      "475/475 [==============================] - 1s 2ms/step - loss: 0.9927 - acc: 0.2126 - val_loss: 0.8646 - val_acc: 0.4800\n",
      "Epoch 92/100\n",
      "475/475 [==============================] - 1s 2ms/step - loss: 0.9880 - acc: 0.2253 - val_loss: 0.9032 - val_acc: 0.0400\n",
      "Epoch 93/100\n",
      "475/475 [==============================] - 1s 2ms/step - loss: 0.9873 - acc: 0.2105 - val_loss: 0.9043 - val_acc: 0.0400\n",
      "Epoch 94/100\n",
      "475/475 [==============================] - 1s 2ms/step - loss: 0.9844 - acc: 0.2168 - val_loss: 0.9358 - val_acc: 0.2400\n",
      "Epoch 95/100\n",
      "475/475 [==============================] - 1s 2ms/step - loss: 0.9940 - acc: 0.2105 - val_loss: 0.8814 - val_acc: 0.4800\n",
      "Epoch 96/100\n",
      "475/475 [==============================] - 1s 2ms/step - loss: 0.9897 - acc: 0.2316 - val_loss: 0.8822 - val_acc: 0.4800\n",
      "Epoch 97/100\n",
      "475/475 [==============================] - 1s 2ms/step - loss: 1.0247 - acc: 0.2042 - val_loss: 0.9110 - val_acc: 0.0400\n",
      "Epoch 98/100\n",
      "475/475 [==============================] - 1s 2ms/step - loss: 1.0000 - acc: 0.1684 - val_loss: 0.9087 - val_acc: 0.0400\n",
      "Epoch 99/100\n",
      "475/475 [==============================] - 1s 2ms/step - loss: 0.9923 - acc: 0.1663 - val_loss: 0.9269 - val_acc: 0.0400\n",
      "Epoch 100/100\n",
      "475/475 [==============================] - 1s 2ms/step - loss: 0.9955 - acc: 0.1705 - val_loss: 0.9118 - val_acc: 0.0400\n"
     ]
    }
   ],
   "source": [
    "history=model.fit(x_train,y_train,batch_size=32,nb_epoch=100,validation_split=0.05)"
   ]
  },
  {
   "cell_type": "code",
   "execution_count": 35,
   "metadata": {},
   "outputs": [
    {
     "data": {
      "image/png": "[encoded data removed]",
      "text/plain": [
       "<Figure size 720x360 with 2 Axes>"
      ]
     },
     "metadata": {
      "needs_background": "light"
     },
     "output_type": "display_data"
    }
   ],
   "source": [
    "def plot_history_loss(fit):\n",
    "    axL.plot(fit.history['loss'], label = \"for training\", color = 'dodgerblue')\n",
    "    axL.set_title('model loss')\n",
    "    axL.set_xlabel('epoch')\n",
    "    axL.set_ylabel('loss')\n",
    "import keras.backend as K\n",
    "\n",
    "  \n",
    "    \n",
    "def plot_history_accuracy(fit):\n",
    "    axR.plot(fit.history[\"acc\"], label = \"for training\", color = 'dodgerblue')\n",
    "    axR.set_title('model accuracy')\n",
    "    axR.set_xlabel('epoch')\n",
    "    axR.set_ylabel('accuracy')\n",
    "\n",
    "fig, (axL, axR) = plt.subplots(ncols = 2, figsize = (10,5))\n",
    "plt.subplots_adjust(wspace = 0.5)\n",
    "plot_history_loss(history)\n",
    "plot_history_accuracy(history)\n",
    "fig.savefig(\"loss_and_accuracy_LSTM.png\", format = 'png', dpi = 300)"
   ]
  },
  {
   "cell_type": "code",
   "execution_count": 36,
   "metadata": {},
   "outputs": [],
   "source": [
    "predicted = model.predict(x_test)\n",
    "#predicted = np.reshape(predicted, (predicted.size,))"
   ]
  },
  {
   "cell_type": "code",
   "execution_count": 43,
   "metadata": {},
   "outputs": [
    {
     "name": "stdout",
     "output_type": "stream",
     "text": [
      "(212, 3)\n"
     ]
    },
    {
     "data": {
      "text/plain": [
       "(212, 3)"
      ]
     },
     "execution_count": 43,
     "metadata": {},
     "output_type": "execute_result"
    }
   ],
   "source": [
    "print(np.shape(predicted))\n",
    "(np.shape(y_test))"
   ]
  },
  {
   "cell_type": "code",
   "execution_count": 38,
   "metadata": {},
   "outputs": [
    {
     "data": {
      "image/png": "[encoded data removed]",
      "text/plain": [
       "<Figure size 432x288 with 1 Axes>"
      ]
     },
     "metadata": {},
     "output_type": "display_data"
    }
   ],
   "source": [
    "fig = plt.figure(facecolor=\"white\")\n",
    "ax =fig.add_subplot(1,1,1)#figの配置\n",
    "ax.plot(y_test, label=\"True Data\")\n",
    "ax.plot(predicted, label=\"prediction\")\n",
    "plt.legend()\n",
    "plt.show()"
   ]
  },
  {
   "cell_type": "code",
   "execution_count": 39,
   "metadata": {},
   "outputs": [
    {
     "name": "stdout",
     "output_type": "stream",
     "text": [
      "[[  0 112   0]\n",
      " [  0  43   0]\n",
      " [  0  57   0]]\n"
     ]
    }
   ],
   "source": [
    "from sklearn.metrics import confusion_matrix\n",
    "\n",
    "predict_classes = model.predict_classes(x_test)\n",
    "true_classes = np.argmax(y_test, 1)\n",
    "cmx = confusion_matrix(true_classes, predict_classes)\n",
    "print(cmx)"
   ]
  },
  {
   "cell_type": "code",
   "execution_count": 40,
   "metadata": {},
   "outputs": [
    {
     "data": {
      "image/png": "[encoded data removed]",
      "text/plain": [
       "<Figure size 432x288 with 2 Axes>"
      ]
     },
     "metadata": {
      "needs_background": "light"
     },
     "output_type": "display_data"
    }
   ],
   "source": [
    "import seaborn as sns\n",
    "sns.heatmap(cmx, annot=True, fmt='g', square=True)\n",
    "plt.show()"
   ]
  },
  {
   "cell_type": "code",
   "execution_count": 41,
   "metadata": {},
   "outputs": [
    {
     "name": "stdout",
     "output_type": "stream",
     "text": [
      "              precision    recall  f1-score   support\n",
      "\n",
      "           0       0.00      0.00      0.00       112\n",
      "           1       0.20      1.00      0.34        43\n",
      "           2       0.00      0.00      0.00        57\n",
      "\n",
      "    accuracy                           0.20       212\n",
      "   macro avg       0.07      0.33      0.11       212\n",
      "weighted avg       0.04      0.20      0.07       212\n",
      "\n"
     ]
    },
    {
     "name": "stderr",
     "output_type": "stream",
     "text": [
      "C:\\Users\\hirb7\\Anaconda3\\envs\\env3.6\\lib\\site-packages\\sklearn\\metrics\\_classification.py:1272: UndefinedMetricWarning: Precision and F-score are ill-defined and being set to 0.0 in labels with no predicted samples. Use `zero_division` parameter to control this behavior.\n",
      "  _warn_prf(average, modifier, msg_start, len(result))\n"
     ]
    }
   ],
   "source": [
    "from sklearn.metrics import confusion_matrix\n",
    "from sklearn.metrics import precision_score\n",
    "from sklearn.metrics import classification_report\n",
    "\n",
    "print(classification_report(true_classes, predict_classes))\n",
    "\n",
    "# from sklearn.metrics import f1_score\n",
    "# print(f1_score(y_test, predicted))"
   ]
  },
  {
   "cell_type": "code",
   "execution_count": null,
   "metadata": {},
   "outputs": [],
   "source": []
  }
 ],
 "metadata": {
  "kernelspec": {
   "display_name": "env3.6",
   "language": "python",
   "name": "env3.6"
  },
  "language_info": {
   "codemirror_mode": {
    "name": "ipython",
    "version": 3
   },
   "file_extension": ".py",
   "mimetype": "text/x-python",
   "name": "python",
   "nbconvert_exporter": "python",
   "pygments_lexer": "ipython3",
   "version": "3.6.10"
  }
 },
 "nbformat": 4,
 "nbformat_minor": 4
}
